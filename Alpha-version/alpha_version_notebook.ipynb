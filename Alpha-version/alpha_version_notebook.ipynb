{
 "cells": [
  {
   "cell_type": "code",
   "execution_count": 1,
   "metadata": {},
   "outputs": [
    {
     "name": "stderr",
     "output_type": "stream",
     "text": [
      "Using TensorFlow backend.\n",
      "/home/Jagan/anaconda3/envs/fastai/lib/python3.6/importlib/_bootstrap.py:219: RuntimeWarning: numpy.dtype size changed, may indicate binary incompatibility. Expected 96, got 88\n",
      "  return f(*args, **kwds)\n",
      "/home/Jagan/anaconda3/envs/fastai/lib/python3.6/importlib/_bootstrap.py:219: RuntimeWarning: numpy.dtype size changed, may indicate binary incompatibility. Expected 96, got 88\n",
      "  return f(*args, **kwds)\n"
     ]
    }
   ],
   "source": [
    "from keras.layers import Conv2D, UpSampling2D, InputLayer, Conv2DTranspose\n",
    "from keras.layers import Activation, Dense, Dropout, Flatten\n",
    "from keras.layers.normalization import BatchNormalization\n",
    "from keras.models import Sequential\n",
    "from keras.preprocessing.image import ImageDataGenerator, array_to_img, img_to_array, load_img\n",
    "from skimage.color import rgb2lab, lab2rgb, rgb2gray, xyz2lab\n",
    "from skimage.io import imsave\n",
    "import numpy as np\n",
    "import os\n",
    "import random\n",
    "import tensorflow as tf"
   ]
  },
  {
   "cell_type": "code",
   "execution_count": 2,
   "metadata": {
    "collapsed": true
   },
   "outputs": [],
   "source": [
    "# Get images\n",
    "image = img_to_array(load_img('woman.jpg'))\n",
    "image = np.array(image, dtype=float)"
   ]
  },
  {
   "cell_type": "code",
   "execution_count": 3,
   "metadata": {
    "collapsed": true
   },
   "outputs": [],
   "source": [
    "X = rgb2lab(1.0/255*image)[:,:,0]\n",
    "Y = rgb2lab(1.0/255*image)[:,:,1:]\n",
    "Y /= 128 # why divide by 128\n",
    "X = X.reshape(1, 400, 400, 1)\n",
    "Y = Y.reshape(1, 400, 400, 2)"
   ]
  },
  {
   "cell_type": "code",
   "execution_count": 4,
   "metadata": {
    "collapsed": true
   },
   "outputs": [],
   "source": [
    "# Building the neural network\n",
    "model = Sequential()\n",
    "model.add(InputLayer(input_shape=(None, None, 1)))\n",
    "model.add(Conv2D(8, (3, 3), activation='relu', padding='same', strides=2))\n",
    "model.add(Conv2D(8, (3, 3), activation='relu', padding='same'))\n",
    "model.add(Conv2D(16, (3, 3), activation='relu', padding='same'))\n",
    "model.add(Conv2D(16, (3, 3), activation='relu', padding='same', strides=2))\n",
    "model.add(Conv2D(32, (3, 3), activation='relu', padding='same'))\n",
    "model.add(Conv2D(32, (3, 3), activation='relu', padding='same', strides=2))\n",
    "model.add(UpSampling2D((2, 2)))\n",
    "model.add(Conv2D(32, (3, 3), activation='relu', padding='same'))\n",
    "model.add(UpSampling2D((2, 2)))\n",
    "model.add(Conv2D(16, (3, 3), activation='relu', padding='same'))\n",
    "model.add(UpSampling2D((2, 2)))\n",
    "model.add(Conv2D(2, (3, 3), activation='tanh', padding='same'))"
   ]
  },
  {
   "cell_type": "code",
   "execution_count": 5,
   "metadata": {
    "collapsed": true
   },
   "outputs": [],
   "source": [
    "# Finish model\n",
    "model.compile(optimizer='rmsprop',loss='mse')"
   ]
  },
  {
   "cell_type": "code",
   "execution_count": 6,
   "metadata": {},
   "outputs": [
    {
     "name": "stdout",
     "output_type": "stream",
     "text": [
      "Epoch 1/100\n",
      "1/1 [==============================] - 23s 23s/step - loss: 0.1115\n",
      "Epoch 2/100\n",
      "1/1 [==============================] - 0s 23ms/step - loss: 0.8037\n",
      "Epoch 3/100\n",
      "1/1 [==============================] - 0s 21ms/step - loss: 0.0357\n",
      "Epoch 4/100\n",
      "1/1 [==============================] - 0s 22ms/step - loss: 0.0109\n",
      "Epoch 5/100\n",
      "1/1 [==============================] - 0s 19ms/step - loss: 0.0077\n",
      "Epoch 6/100\n",
      "1/1 [==============================] - 0s 20ms/step - loss: 0.0066\n",
      "Epoch 7/100\n",
      "1/1 [==============================] - 0s 20ms/step - loss: 0.0062\n",
      "Epoch 8/100\n",
      "1/1 [==============================] - 0s 20ms/step - loss: 0.0066\n",
      "Epoch 9/100\n",
      "1/1 [==============================] - 0s 20ms/step - loss: 0.0071\n",
      "Epoch 10/100\n",
      "1/1 [==============================] - 0s 20ms/step - loss: 0.0061\n",
      "Epoch 11/100\n",
      "1/1 [==============================] - 0s 19ms/step - loss: 0.0056\n",
      "Epoch 12/100\n",
      "1/1 [==============================] - 0s 18ms/step - loss: 0.0053\n",
      "Epoch 13/100\n",
      "1/1 [==============================] - 0s 18ms/step - loss: 0.0052\n",
      "Epoch 14/100\n",
      "1/1 [==============================] - 0s 19ms/step - loss: 0.0055\n",
      "Epoch 15/100\n",
      "1/1 [==============================] - 0s 18ms/step - loss: 0.0064\n",
      "Epoch 16/100\n",
      "1/1 [==============================] - 0s 19ms/step - loss: 0.0050\n",
      "Epoch 17/100\n",
      "1/1 [==============================] - 0s 19ms/step - loss: 0.0046\n",
      "Epoch 18/100\n",
      "1/1 [==============================] - 0s 19ms/step - loss: 0.0046\n",
      "Epoch 19/100\n",
      "1/1 [==============================] - 0s 19ms/step - loss: 0.0047\n",
      "Epoch 20/100\n",
      "1/1 [==============================] - 0s 20ms/step - loss: 0.0053\n",
      "Epoch 21/100\n",
      "1/1 [==============================] - 0s 20ms/step - loss: 0.0046\n",
      "Epoch 22/100\n",
      "1/1 [==============================] - 0s 20ms/step - loss: 0.0042\n",
      "Epoch 23/100\n",
      "1/1 [==============================] - 0s 20ms/step - loss: 0.0040\n",
      "Epoch 24/100\n",
      "1/1 [==============================] - 0s 19ms/step - loss: 0.0040\n",
      "Epoch 25/100\n",
      "1/1 [==============================] - 0s 19ms/step - loss: 0.0047\n",
      "Epoch 26/100\n",
      "1/1 [==============================] - 0s 19ms/step - loss: 0.0038\n",
      "Epoch 27/100\n",
      "1/1 [==============================] - 0s 18ms/step - loss: 0.0038\n",
      "Epoch 28/100\n",
      "1/1 [==============================] - 0s 18ms/step - loss: 0.0043\n",
      "Epoch 29/100\n",
      "1/1 [==============================] - 0s 18ms/step - loss: 0.0047\n",
      "Epoch 30/100\n",
      "1/1 [==============================] - 0s 18ms/step - loss: 0.0037\n",
      "Epoch 31/100\n",
      "1/1 [==============================] - 0s 19ms/step - loss: 0.0041\n",
      "Epoch 32/100\n",
      "1/1 [==============================] - 0s 19ms/step - loss: 0.0036\n",
      "Epoch 33/100\n",
      "1/1 [==============================] - 0s 19ms/step - loss: 0.0046\n",
      "Epoch 34/100\n",
      "1/1 [==============================] - 0s 19ms/step - loss: 0.0035\n",
      "Epoch 35/100\n",
      "1/1 [==============================] - 0s 19ms/step - loss: 0.0034\n",
      "Epoch 36/100\n",
      "1/1 [==============================] - 0s 18ms/step - loss: 0.0039\n",
      "Epoch 37/100\n",
      "1/1 [==============================] - 0s 19ms/step - loss: 0.0033\n",
      "Epoch 38/100\n",
      "1/1 [==============================] - 0s 19ms/step - loss: 0.0041\n",
      "Epoch 39/100\n",
      "1/1 [==============================] - 0s 18ms/step - loss: 0.0033\n",
      "Epoch 40/100\n",
      "1/1 [==============================] - 0s 19ms/step - loss: 0.0034\n",
      "Epoch 41/100\n",
      "1/1 [==============================] - 0s 18ms/step - loss: 0.0035\n",
      "Epoch 42/100\n",
      "1/1 [==============================] - 0s 19ms/step - loss: 0.0042\n",
      "Epoch 43/100\n",
      "1/1 [==============================] - 0s 19ms/step - loss: 0.0030\n",
      "Epoch 44/100\n",
      "1/1 [==============================] - 0s 19ms/step - loss: 0.0032\n",
      "Epoch 45/100\n",
      "1/1 [==============================] - 0s 18ms/step - loss: 0.0034\n",
      "Epoch 46/100\n",
      "1/1 [==============================] - 0s 18ms/step - loss: 0.0049\n",
      "Epoch 47/100\n",
      "1/1 [==============================] - 0s 18ms/step - loss: 0.0037\n",
      "Epoch 48/100\n",
      "1/1 [==============================] - 0s 19ms/step - loss: 0.0039\n",
      "Epoch 49/100\n",
      "1/1 [==============================] - 0s 18ms/step - loss: 0.0048\n",
      "Epoch 50/100\n",
      "1/1 [==============================] - 0s 19ms/step - loss: 0.0031\n",
      "Epoch 51/100\n",
      "1/1 [==============================] - 0s 18ms/step - loss: 0.0029\n",
      "Epoch 52/100\n",
      "1/1 [==============================] - 0s 18ms/step - loss: 0.0028\n",
      "Epoch 53/100\n",
      "1/1 [==============================] - 0s 18ms/step - loss: 0.0030\n",
      "Epoch 54/100\n",
      "1/1 [==============================] - 0s 18ms/step - loss: 0.0039\n",
      "Epoch 55/100\n",
      "1/1 [==============================] - 0s 19ms/step - loss: 0.0031\n",
      "Epoch 56/100\n",
      "1/1 [==============================] - 0s 18ms/step - loss: 0.0030\n",
      "Epoch 57/100\n",
      "1/1 [==============================] - 0s 18ms/step - loss: 0.0027\n",
      "Epoch 58/100\n",
      "1/1 [==============================] - 0s 19ms/step - loss: 0.0026\n",
      "Epoch 59/100\n",
      "1/1 [==============================] - 0s 19ms/step - loss: 0.0029\n",
      "Epoch 60/100\n",
      "1/1 [==============================] - 0s 19ms/step - loss: 0.0037\n",
      "Epoch 61/100\n",
      "1/1 [==============================] - 0s 18ms/step - loss: 0.0052\n",
      "Epoch 62/100\n",
      "1/1 [==============================] - 0s 19ms/step - loss: 0.0032\n",
      "Epoch 63/100\n",
      "1/1 [==============================] - 0s 18ms/step - loss: 0.0028\n",
      "Epoch 64/100\n",
      "1/1 [==============================] - 0s 19ms/step - loss: 0.0030\n",
      "Epoch 65/100\n",
      "1/1 [==============================] - 0s 18ms/step - loss: 0.0039\n",
      "Epoch 66/100\n",
      "1/1 [==============================] - 0s 18ms/step - loss: 0.0050\n",
      "Epoch 67/100\n",
      "1/1 [==============================] - 0s 18ms/step - loss: 0.0031\n",
      "Epoch 68/100\n",
      "1/1 [==============================] - 0s 18ms/step - loss: 0.0025\n",
      "Epoch 69/100\n",
      "1/1 [==============================] - 0s 18ms/step - loss: 0.0024\n",
      "Epoch 70/100\n",
      "1/1 [==============================] - 0s 18ms/step - loss: 0.0023\n",
      "Epoch 71/100\n",
      "1/1 [==============================] - 0s 18ms/step - loss: 0.0024\n",
      "Epoch 72/100\n",
      "1/1 [==============================] - 0s 19ms/step - loss: 0.0029\n",
      "Epoch 73/100\n",
      "1/1 [==============================] - 0s 18ms/step - loss: 0.0039\n",
      "Epoch 74/100\n",
      "1/1 [==============================] - 0s 19ms/step - loss: 0.0026\n",
      "Epoch 75/100\n",
      "1/1 [==============================] - 0s 19ms/step - loss: 0.0025\n",
      "Epoch 76/100\n",
      "1/1 [==============================] - 0s 19ms/step - loss: 0.0034\n",
      "Epoch 77/100\n",
      "1/1 [==============================] - 0s 19ms/step - loss: 0.0037\n",
      "Epoch 78/100\n",
      "1/1 [==============================] - 0s 19ms/step - loss: 0.0055\n",
      "Epoch 79/100\n",
      "1/1 [==============================] - 0s 19ms/step - loss: 0.0042\n",
      "Epoch 80/100\n",
      "1/1 [==============================] - 0s 18ms/step - loss: 0.0030\n",
      "Epoch 81/100\n",
      "1/1 [==============================] - 0s 20ms/step - loss: 0.0025\n",
      "Epoch 82/100\n",
      "1/1 [==============================] - 0s 19ms/step - loss: 0.0023\n",
      "Epoch 83/100\n",
      "1/1 [==============================] - 0s 19ms/step - loss: 0.0023\n",
      "Epoch 84/100\n",
      "1/1 [==============================] - 0s 18ms/step - loss: 0.0026\n",
      "Epoch 85/100\n",
      "1/1 [==============================] - 0s 19ms/step - loss: 0.0040\n",
      "Epoch 86/100\n",
      "1/1 [==============================] - 0s 18ms/step - loss: 0.0032\n",
      "Epoch 87/100\n",
      "1/1 [==============================] - 0s 19ms/step - loss: 0.0046\n",
      "Epoch 88/100\n",
      "1/1 [==============================] - 0s 19ms/step - loss: 0.0064\n",
      "Epoch 89/100\n",
      "1/1 [==============================] - 0s 18ms/step - loss: 0.0028\n",
      "Epoch 90/100\n",
      "1/1 [==============================] - 0s 18ms/step - loss: 0.0025\n",
      "Epoch 91/100\n",
      "1/1 [==============================] - 0s 19ms/step - loss: 0.0023\n",
      "Epoch 92/100\n",
      "1/1 [==============================] - 0s 18ms/step - loss: 0.0022\n",
      "Epoch 93/100\n",
      "1/1 [==============================] - 0s 19ms/step - loss: 0.0025\n",
      "Epoch 94/100\n",
      "1/1 [==============================] - 0s 20ms/step - loss: 0.0026\n",
      "Epoch 95/100\n",
      "1/1 [==============================] - 0s 20ms/step - loss: 0.0035\n",
      "Epoch 96/100\n",
      "1/1 [==============================] - 0s 20ms/step - loss: 0.0025\n",
      "Epoch 97/100\n",
      "1/1 [==============================] - 0s 19ms/step - loss: 0.0022\n",
      "Epoch 98/100\n",
      "1/1 [==============================] - 0s 19ms/step - loss: 0.0022\n",
      "Epoch 99/100\n",
      "1/1 [==============================] - 0s 19ms/step - loss: 0.0027\n",
      "Epoch 100/100\n",
      "1/1 [==============================] - 0s 19ms/step - loss: 0.0033\n"
     ]
    },
    {
     "data": {
      "text/plain": [
       "<keras.callbacks.History at 0x7fc953bf3ac8>"
      ]
     },
     "execution_count": 6,
     "metadata": {},
     "output_type": "execute_result"
    }
   ],
   "source": [
    "model.fit(x=X, \n",
    "    y=Y,\n",
    "    batch_size=1,\n",
    "    epochs=100)"
   ]
  },
  {
   "cell_type": "code",
   "execution_count": 7,
   "metadata": {},
   "outputs": [
    {
     "name": "stdout",
     "output_type": "stream",
     "text": [
      "1/1 [==============================] - 0s 69ms/step\n",
      "0.0027718401979655027\n"
     ]
    },
    {
     "name": "stderr",
     "output_type": "stream",
     "text": [
      "/home/Jagan/anaconda3/envs/fastai/lib/python3.6/site-packages/skimage/util/dtype.py:141: UserWarning: Possible precision loss when converting from float64 to uint8\n",
      "  .format(dtypeobj_in, dtypeobj_out))\n",
      "/home/Jagan/anaconda3/envs/fastai/lib/python3.6/site-packages/skimage/util/dtype.py:141: UserWarning: Possible precision loss when converting from float64 to uint16\n",
      "  .format(dtypeobj_in, dtypeobj_out))\n"
     ]
    }
   ],
   "source": [
    "print(model.evaluate(X, Y, batch_size=1))\n",
    "output = model.predict(X)\n",
    "output *= 128\n",
    "# Output colorizations\n",
    "cur = np.zeros((400, 400, 3))\n",
    "cur[:,:,0] = X[0][:,:,0]\n",
    "cur[:,:,1:] = output[0]\n",
    "imsave(\"img_result.png\", lab2rgb(cur))\n",
    "imsave(\"img_gray_version.png\", rgb2gray(lab2rgb(cur)))"
   ]
  },
  {
   "cell_type": "code",
   "execution_count": null,
   "metadata": {},
   "outputs": [],
   "source": []
  }
 ],
 "metadata": {
  "kernelspec": {
   "display_name": "Python 3",
   "language": "python",
   "name": "python3"
  },
  "language_info": {
   "codemirror_mode": {
    "name": "ipython",
    "version": 3
   },
   "file_extension": ".py",
   "mimetype": "text/x-python",
   "name": "python",
   "nbconvert_exporter": "python",
   "pygments_lexer": "ipython3",
   "version": "3.6.6"
  }
 },
 "nbformat": 4,
 "nbformat_minor": 2
}
